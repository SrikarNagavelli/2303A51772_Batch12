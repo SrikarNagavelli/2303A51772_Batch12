{
  "nbformat": 4,
  "nbformat_minor": 0,
  "metadata": {
    "colab": {
      "provenance": [],
      "authorship_tag": "ABX9TyOLBU9JddGmSGucwlKPODzO",
      "include_colab_link": true
    },
    "kernelspec": {
      "name": "python3",
      "display_name": "Python 3"
    },
    "language_info": {
      "name": "python"
    }
  },
  "cells": [
    {
      "cell_type": "markdown",
      "metadata": {
        "id": "view-in-github",
        "colab_type": "text"
      },
      "source": [
        "<a href=\"https://colab.research.google.com/github/SrikarNagavelli/2303A51772_Batch12/blob/main/Assignment4.ipynb\" target=\"_parent\"><img src=\"https://colab.research.google.com/assets/colab-badge.svg\" alt=\"Open In Colab\"/></a>"
      ]
    },
    {
      "cell_type": "markdown",
      "source": [
        "**Question 1**"
      ],
      "metadata": {
        "id": "Y18J2nkQ6xz9"
      }
    },
    {
      "cell_type": "code",
      "execution_count": 6,
      "metadata": {
        "id": "7GLhiRI2xy1q",
        "colab": {
          "base_uri": "https://localhost:8080/"
        },
        "outputId": "295f5ecd-4188-46ac-be96-121fda10aa78"
      },
      "outputs": [
        {
          "output_type": "stream",
          "name": "stdout",
          "text": [
            "   Student_ID     Name  Math  Science  English\n",
            "0           1    Alice  85.0     90.0     88.0\n",
            "1           2      Bob  78.0     79.2     72.0\n",
            "2           3  Charlie  82.6     76.0     79.0\n",
            "3           4    David  92.0     85.0     79.4\n",
            "4           5      Eva  70.0     65.0     68.0\n",
            "5           6    Frank  88.0     80.0     90.0\n"
          ]
        }
      ],
      "source": [
        "import pandas as pd\n",
        "df = pd.read_csv(\"student_scores.csv\")\n",
        "df.fillna(df.mean(numeric_only=True), inplace=True)\n",
        "print(df)\n"
      ]
    },
    {
      "cell_type": "code",
      "source": [
        "high=df[(df[\"Math\"]>75) & (df[\"Science\"]>75) & (df[\"English\"]>75)]\n",
        "print(high)"
      ],
      "metadata": {
        "colab": {
          "base_uri": "https://localhost:8080/"
        },
        "id": "ET2Bm3Qt1p9-",
        "outputId": "93201fdb-6130-4784-c7b6-378de374025b"
      },
      "execution_count": 12,
      "outputs": [
        {
          "output_type": "stream",
          "name": "stdout",
          "text": [
            "   Student_ID     Name  Math  Science  English\n",
            "0           1    Alice  85.0     90.0     88.0\n",
            "2           3  Charlie  82.6     76.0     79.0\n",
            "3           4    David  92.0     85.0     79.4\n",
            "5           6    Frank  88.0     80.0     90.0\n"
          ]
        }
      ]
    },
    {
      "cell_type": "markdown",
      "source": [
        "**Question 2**"
      ],
      "metadata": {
        "id": "Yv1xj1cv6n5X"
      }
    },
    {
      "cell_type": "code",
      "source": [
        "import pandas as pd\n",
        "df=pd.read_csv(\"patients.csv\")\n",
        "df.fillna(df.median(numeric_only=True), inplace=True)\n",
        "print(df)"
      ],
      "metadata": {
        "colab": {
          "base_uri": "https://localhost:8080/"
        },
        "id": "b_dTNoeX3yYv",
        "outputId": "79b05195-07b8-4fea-c50e-ea0fd6a65263"
      },
      "execution_count": 13,
      "outputs": [
        {
          "output_type": "stream",
          "name": "stdout",
          "text": [
            "   Patient_ID       Name   Age  Gender     Diagnosis Admission_Date\n",
            "0         101      Alice  65.0  Female      Diabetes     2023-01-12\n",
            "1         102        Bob  60.0    Male  Hypertension     2023-02-15\n",
            "2         103  Catherine  54.0  Female      Diabetes     2023-03-10\n",
            "3         104      David  45.0    Male        Asthma     2023-04-05\n",
            "4         105        Eva  70.0  Female           Flu     2023-05-20\n",
            "5         106      Fiona  60.0  Female      Diabetes     2023-06-18\n",
            "6         107     George  60.0    Male      Diabetes     2023-07-22\n"
          ]
        }
      ]
    },
    {
      "cell_type": "code",
      "source": [
        "f=df[(df[\"Age\"]>50) & (df[\"Diagnosis\"]==\"Diabetes\")]\n",
        "print(f)"
      ],
      "metadata": {
        "colab": {
          "base_uri": "https://localhost:8080/"
        },
        "id": "OpmQX4Ew5qiF",
        "outputId": "9852e597-2bfc-4bd1-f997-4e2b75003f06"
      },
      "execution_count": 16,
      "outputs": [
        {
          "output_type": "stream",
          "name": "stdout",
          "text": [
            "   Patient_ID       Name   Age  Gender Diagnosis Admission_Date\n",
            "0         101      Alice  65.0  Female  Diabetes     2023-01-12\n",
            "2         103  Catherine  54.0  Female  Diabetes     2023-03-10\n",
            "5         106      Fiona  60.0  Female  Diabetes     2023-06-18\n",
            "6         107     George  60.0    Male  Diabetes     2023-07-22\n"
          ]
        }
      ]
    }
  ]
}