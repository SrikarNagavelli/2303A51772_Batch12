{
  "nbformat": 4,
  "nbformat_minor": 0,
  "metadata": {
    "colab": {
      "provenance": [],
      "authorship_tag": "ABX9TyMGekiy1cQz/xG6qZtBQGP6",
      "include_colab_link": true
    },
    "kernelspec": {
      "name": "python3",
      "display_name": "Python 3"
    },
    "language_info": {
      "name": "python"
    }
  },
  "cells": [
    {
      "cell_type": "markdown",
      "metadata": {
        "id": "view-in-github",
        "colab_type": "text"
      },
      "source": [
        "<a href=\"https://colab.research.google.com/github/SrikarNagavelli/2303A51772_Batch12/blob/main/DataScience_lab2.ipynb\" target=\"_parent\"><img src=\"https://colab.research.google.com/assets/colab-badge.svg\" alt=\"Open In Colab\"/></a>"
      ]
    },
    {
      "cell_type": "code",
      "source": [
        "import numpy as np\n",
        "import pandas as pd\n",
        "\n",
        "# Marks array (Math, Physics, Chemistry for 5 students)\n",
        "marks = np.array([\n",
        "    [78, 85, 90],\n",
        "    [92, 88, 76],\n",
        "    [67, 73, 70],\n",
        "    [89, 94, 91],\n",
        "    [56, 60, 65]\n",
        "])\n",
        "print(\"Original Marks Array:\\n\", marks)\n"
      ],
      "metadata": {
        "id": "8ebQayNk_SFU",
        "colab": {
          "base_uri": "https://localhost:8080/"
        },
        "outputId": "d937a617-ff3f-4e71-e22f-b0fa3985cd79"
      },
      "execution_count": null,
      "outputs": [
        {
          "output_type": "stream",
          "name": "stdout",
          "text": [
            "Original Marks Array:\n",
            " [[78 85 90]\n",
            " [92 88 76]\n",
            " [67 73 70]\n",
            " [89 94 91]\n",
            " [56 60 65]]\n"
          ]
        }
      ]
    },
    {
      "cell_type": "code",
      "source": [
        "print(\"\\nAverage marks of each student:\", np.mean(marks, axis=1))\n",
        "print(\"Minimum marks of each student:\", np.min(marks, axis=1))\n",
        "print(\"Maximum marks of each student:\", np.max(marks, axis=1))\n",
        "\n",
        "print(\"\\nMarks of 3rd student (index 2):\", marks[2])\n",
        "\n",
        "print(\"\\nStudents with any subject > 80:\\n\", marks[np.any(marks > 80, axis=1)])"
      ],
      "metadata": {
        "colab": {
          "base_uri": "https://localhost:8080/"
        },
        "id": "-j936cI4sVfX",
        "outputId": "9d58179b-63fc-4331-fbc7-e2603715f0ab"
      },
      "execution_count": null,
      "outputs": [
        {
          "output_type": "stream",
          "name": "stdout",
          "text": [
            "\n",
            "Average marks of each student: [84.33333333 85.33333333 70.         91.33333333 60.33333333]\n",
            "Minimum marks of each student: [78 76 67 89 56]\n",
            "Maximum marks of each student: [90 92 73 94 65]\n",
            "\n",
            "Marks of 3rd student (index 2): [67 73 70]\n",
            "\n",
            "Students with any subject > 80:\n",
            " [[78 85 90]\n",
            " [92 88 76]\n",
            " [89 94 91]]\n"
          ]
        }
      ]
    },
    {
      "cell_type": "code",
      "source": [
        "\n",
        "subject_wise = marks.T\n",
        "print(\"\\nSubject-wise Marks (Transposed):\\n\", subject_wise)\n",
        "\n",
        "print(\"Average marks per subject:\", np.mean(subject_wise, axis=1))"
      ],
      "metadata": {
        "colab": {
          "base_uri": "https://localhost:8080/"
        },
        "id": "ev38HsiosVc0",
        "outputId": "4318b9f9-38fd-4f14-e530-aa2eb2ddc532"
      },
      "execution_count": null,
      "outputs": [
        {
          "output_type": "stream",
          "name": "stdout",
          "text": [
            "\n",
            "Subject-wise Marks (Transposed):\n",
            " [[78 92 67 89 56]\n",
            " [85 88 73 94 60]\n",
            " [90 76 70 91 65]]\n",
            "Average marks per subject: [76.4 80.  78.4]\n"
          ]
        }
      ]
    },
    {
      "cell_type": "code",
      "source": [
        "\n",
        "data = {\n",
        "    'Student': ['S1', 'S2', 'S3', 'S4', 'S5'],\n",
        "    'Math': marks[:, 0],\n",
        "    'Physics': marks[:, 1],\n",
        "    'Chemistry': marks[:, 2]\n",
        "}\n",
        "\n",
        "df = pd.DataFrame(data)\n",
        "print(\"\\nOriginal DataFrame:\\n\", df)\n"
      ],
      "metadata": {
        "colab": {
          "base_uri": "https://localhost:8080/"
        },
        "id": "xxyRppYCsVaa",
        "outputId": "fa59c45c-5df6-46e9-9a5d-0789dde412ab"
      },
      "execution_count": null,
      "outputs": [
        {
          "output_type": "stream",
          "name": "stdout",
          "text": [
            "\n",
            "Original DataFrame:\n",
            "   Student  Math  Physics  Chemistry\n",
            "0      S1    78       85         90\n",
            "1      S2    92       88         76\n",
            "2      S3    67       73         70\n",
            "3      S4    89       94         91\n",
            "4      S5    56       60         65\n"
          ]
        }
      ]
    },
    {
      "cell_type": "code",
      "source": [
        "\n",
        "df['Average'] = df[['Math', 'Physics', 'Chemistry']].mean(axis=1)\n",
        "\n",
        "df['Passed'] = df['Average'] >= 80\n",
        "\n",
        "print(\"\\nDataFrame with 'Average' and 'Passed' columns:\\n\", df)\n"
      ],
      "metadata": {
        "colab": {
          "base_uri": "https://localhost:8080/"
        },
        "id": "eEXcA409sVXj",
        "outputId": "8f5ff19d-6d21-4eb7-e314-d7643d9d633e"
      },
      "execution_count": null,
      "outputs": [
        {
          "output_type": "stream",
          "name": "stdout",
          "text": [
            "\n",
            "DataFrame with 'Average' and 'Passed' columns:\n",
            "   Student  Math  Physics  Chemistry    Average  Passed\n",
            "0      S1    78       85         90  84.333333    True\n",
            "1      S2    92       88         76  85.333333    True\n",
            "2      S3    67       73         70  70.000000   False\n",
            "3      S4    89       94         91  91.333333    True\n",
            "4      S5    56       60         65  60.333333   False\n"
          ]
        }
      ]
    },
    {
      "cell_type": "code",
      "source": [
        "# Students with average > 80\n",
        "high_scorers = df[df['Average'] > 80]\n",
        "print(\"\\nStudents with Average > 80:\\n\", high_scorers)\n",
        "overall_avg = df[['Math', 'Physics', 'Chemistry']].mean()\n",
        "print(\"\\nSubject-wise Overall Averages:\\n\", overall_avg)"
      ],
      "metadata": {
        "colab": {
          "base_uri": "https://localhost:8080/"
        },
        "id": "VljE77rosVUh",
        "outputId": "cafe2d45-3f3b-4f2b-97d8-fc0075bfb9ee"
      },
      "execution_count": null,
      "outputs": [
        {
          "output_type": "stream",
          "name": "stdout",
          "text": [
            "\n",
            "Students with Average > 80:\n",
            "   Student  Math  Physics  Chemistry    Average  Passed\n",
            "0      S1    78       85         90  84.333333    True\n",
            "1      S2    92       88         76  85.333333    True\n",
            "3      S4    89       94         91  91.333333    True\n",
            "\n",
            "Subject-wise Overall Averages:\n",
            " Math         76.4\n",
            "Physics      80.0\n",
            "Chemistry    78.4\n",
            "dtype: float64\n"
          ]
        }
      ]
    }
  ]
}